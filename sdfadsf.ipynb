{
 "cells": [
  {
   "cell_type": "code",
   "execution_count": null,
   "id": "6ce04611",
   "metadata": {},
   "outputs": [],
   "source": [
    "#4.5 Матрицы. Часть 2 4 из 9 шагов\n",
    "\n",
    "n = int(input())\n",
    "matrix = []\n",
    "for _ in range(n):\n",
    "    temp = [int(num) for num in input().split()]\n",
    "    matrix.append(temp)\n",
    "a = 0\n",
    "b = 0\n",
    "flag = True\n",
    "for x in range(n):\n",
    "    for y in range(n):\n",
    "        a = matrix[x][y]\n",
    "        b = matrix[y][x]\n",
    "        if a == b:\n",
    "            continue\n",
    "        if a != b:\n",
    "            break\n",
    "    if a != b:\n",
    "        flag = False\n",
    "        break\n",
    "if flag == True:\n",
    "    print('YES')\n",
    "if flag == False:\n",
    "    print('NO')"
   ]
  },
  {
   "cell_type": "code",
   "execution_count": null,
   "id": "7d677e14",
   "metadata": {},
   "outputs": [],
   "source": [
    "#4.5 Матрицы. Часть 2 5 из 9 шагов\n",
    "\n",
    "n = int(input())\n",
    "matrix = []\n",
    "for _ in range(n):\n",
    "    temp = [int(num) for num in input().split()]\n",
    "    matrix.append(temp)\n",
    "for x in range(n):\n",
    "    for y in range(n):\n",
    "        matrix[x][x], matrix[n - 1 - x][x] = matrix[n - 1 - x][x], matrix[x][x]\n",
    "for r in range(n):\n",
    "    for c in range(n):\n",
    "        print(matrix[r][c], end=' ')\n",
    "    print()"
   ]
  },
  {
   "cell_type": "code",
   "execution_count": null,
   "id": "4c2dbe2c",
   "metadata": {},
   "outputs": [],
   "source": [
    "#4.5 Матрицы. Часть 2 6 из 9 шагов\n",
    "\n",
    "n = int(input())\n",
    "matrix = []\n",
    "for _ in range(n):\n",
    "    temp = [int(num) for num in input().split()]\n",
    "    matrix.append(temp)\n",
    "total = []\n",
    "for x in range(n):\n",
    "    total.append(matrix[n-x-1])\n",
    "for r in range(n):\n",
    "    for c in range(n):\n",
    "        print(total[r][c], end=' ')\n",
    "    print()"
   ]
  },
  {
   "cell_type": "code",
   "execution_count": null,
   "id": "3beec697",
   "metadata": {},
   "outputs": [],
   "source": [
    "#4.5 Матрицы. Часть 2 7 из 9 шагов\n",
    "\n",
    "n = int(input())\n",
    "matrix = []\n",
    "for _ in range(n):\n",
    "    temp = [int(num) for num in input().split()]\n",
    "    matrix.append(temp)\n",
    "total = []\n",
    "for x in range(n):\n",
    "    for y in range(n):\n",
    "        total.append(matrix[n-y-1][x])\n",
    "for r in range(n):\n",
    "    for c in range(n):\n",
    "        print(total[r][c], end=' ')\n",
    "    print()"
   ]
  },
  {
   "cell_type": "code",
   "execution_count": 36,
   "id": "6fb6acbc",
   "metadata": {},
   "outputs": [
    {
     "name": "stdout",
     "output_type": "stream",
     "text": [
      "f3\n",
      ". . . . . . . . \n",
      ". . . . . . . . \n",
      ". . . . . . . . \n",
      ". . . . * . * . \n",
      ". . . * . . . * \n",
      ". . . . . N . . \n",
      ". . . * . . . * \n",
      ". . . . * . * . \n"
     ]
    }
   ],
   "source": [
    "#4.5 Матрицы. Часть 2 8 из 9 шагов\n",
    "\n",
    "a, b = input()\n",
    "matrix = [['.'] * 8 for _ in range(8)]\n",
    "x = ord(a) - 97\n",
    "y = 8 - int(b)\n",
    "matrix[y][x] = 'N'\n",
    "for i in range(8):\n",
    "    for j in range(8):\n",
    "        if (x - i) ** 2 + (y - j) ** 2 == 5:\n",
    "            matrix[j][i] = '*'\n",
    "for r in range(8):\n",
    "    for c in range(8):\n",
    "        print(matrix[r][c], end=' ')\n",
    "    print()"
   ]
  },
  {
   "cell_type": "code",
   "execution_count": 58,
   "id": "e372811b",
   "metadata": {},
   "outputs": [
    {
     "name": "stdout",
     "output_type": "stream",
     "text": [
      "3\n",
      "8 2 6\n",
      "3 5 7\n",
      "4 9 1\n",
      "NO\n"
     ]
    }
   ],
   "source": [
    "#4.5 Матрицы. Часть 2 9 из 9 шагов\n",
    "\n",
    "n = int(input())\n",
    "matrix = []\n",
    "for _ in range(n):\n",
    "    temp = [int(num) for num in input().split()]\n",
    "    matrix.append(temp)\n",
    "prov = [i for i in range(1, n ** 2 + 1)]\n",
    "temp = []\n",
    "for _ in range(n):\n",
    "    temp.extend(matrix[_])\n",
    "a = 0\n",
    "b = 0\n",
    "flag = True\n",
    "for i in range(n):\n",
    "    for j in range(n):\n",
    "        a += matrix[i][j]\n",
    "        b += matrix[j][i]\n",
    "    if a == b:\n",
    "        continue\n",
    "    else:\n",
    "        flag = False\n",
    "        break\n",
    "if flag == True:\n",
    "    for _ in range(1, n):\n",
    "        c = sum(matrix[0])\n",
    "        if sum(matrix[_]) == c:\n",
    "            continue\n",
    "        else:\n",
    "            flag = False\n",
    "            break\n",
    "if prov == sorted(temp) and flag == True:\n",
    "    print('YES')\n",
    "else:\n",
    "    print('NO')"
   ]
  },
  {
   "cell_type": "code",
   "execution_count": 8,
   "id": "d6c26071",
   "metadata": {},
   "outputs": [
    {
     "name": "stdout",
     "output_type": "stream",
     "text": [
      "2 2\n",
      ". * \n",
      "* . \n"
     ]
    }
   ],
   "source": [
    "#4.6 Матрицы. Часть 3 1 из 10 шагов\n",
    "\n",
    "a, b = input(). split()\n",
    "a = int(a)\n",
    "b = int(b)\n",
    "matrix = []\n",
    "temp = []\n",
    "d = '.'\n",
    "e = '*'\n",
    "for i in range(a):\n",
    "    for j in range(b):\n",
    "        if i % 2 == 0:\n",
    "            if j % 2 == 0:\n",
    "                temp.append(d)\n",
    "        if i % 2 == 0:\n",
    "            if j % 2 != 0:\n",
    "                temp.append(e)        \n",
    "        if i % 2 != 0:\n",
    "            if j % 2 == 0:\n",
    "                temp.append(e)\n",
    "        if i % 2 != 0:\n",
    "            if j % 2 != 0:\n",
    "                temp.append(d)\n",
    "    matrix.append(temp)\n",
    "    temp = []\n",
    "for r in range(a):\n",
    "    for c in range(b):\n",
    "        print(matrix[r][c], end=' ')\n",
    "    print()"
   ]
  },
  {
   "cell_type": "code",
   "execution_count": 14,
   "id": "e477ed5a",
   "metadata": {},
   "outputs": [
    {
     "name": "stdout",
     "output_type": "stream",
     "text": [
      "5\n",
      "0 0 0 0 1 \n",
      "0 0 0 1 2 \n",
      "0 0 1 2 2 \n",
      "0 1 2 2 2 \n",
      "1 2 2 2 2 \n"
     ]
    }
   ],
   "source": [
    "#4.6 Матрицы. Часть 3 2 из 10 шагов\n",
    "\n",
    "n = int(input())\n",
    "matrix = [['0'] * n for _ in range(n)]\n",
    "for i in range(n):\n",
    "    matrix[i][n-i-1] = 1\n",
    "for i in range(n):\n",
    "    for j in range(n):\n",
    "        if i > n - 1 - j:\n",
    "            matrix[i][j] = 2\n",
    "for r in range(n):\n",
    "    for c in range(n):\n",
    "        print(matrix[r][c], end=' ')\n",
    "    print()"
   ]
  },
  {
   "cell_type": "code",
   "execution_count": 33,
   "id": "f4267017",
   "metadata": {},
   "outputs": [
    {
     "name": "stdout",
     "output_type": "stream",
     "text": [
      "5 6\n",
      "1  2  3  4  5  6  \n",
      "7  8  9  10 11 12 \n",
      "13 14 15 16 17 18 \n",
      "19 20 21 22 23 24 \n",
      "25 26 27 28 29 30 \n"
     ]
    }
   ],
   "source": [
    "#4.6 Матрицы. Часть 3 3 из 10 шагов\n",
    "\n",
    "a, b = input().split()\n",
    "a = int(a)\n",
    "b = int(b)\n",
    "matrix = []\n",
    "temp = []\n",
    "count = 0\n",
    "for i in range(a):\n",
    "    for j in range(b):\n",
    "        temp.append(count + 1)\n",
    "        count += 1\n",
    "    matrix.append(temp)\n",
    "    temp = []\n",
    "for r in range(a):\n",
    "    for c in range(b):\n",
    "        print(str(matrix[r][c]).ljust(3), end='')\n",
    "    print()"
   ]
  },
  {
   "cell_type": "code",
   "execution_count": 18,
   "id": "4000502b",
   "metadata": {},
   "outputs": [
    {
     "name": "stdout",
     "output_type": "stream",
     "text": [
      "5 6\n",
      "1   6   11  16  21  26  \n",
      "2   7   12  17  22  27  \n",
      "3   8   13  18  23  28  \n",
      "4   9   14  19  24  29  \n",
      "5   10  15  20  25  30  \n"
     ]
    }
   ],
   "source": [
    "#4.6 Матрицы. Часть 3 4 из 10 шагов\n",
    "\n",
    "n, m = [int(i) for i in input().split()]\n",
    "matrix = [[0] * m for _ in range(n)]\n",
    "\n",
    "for i in range(n):\n",
    "    for j in range(m):\n",
    "        matrix[i][j] = i + n * j + 1\n",
    "\n",
    "for i in range(n):\n",
    "    for j in range(m):\n",
    "        print(str(matrix[i][j]).ljust(3), end=' ')\n",
    "    print()"
   ]
  },
  {
   "cell_type": "code",
   "execution_count": 20,
   "id": "31335c8f",
   "metadata": {},
   "outputs": [
    {
     "name": "stdout",
     "output_type": "stream",
     "text": [
      "2\n",
      "1 1 \n",
      "1 1 \n"
     ]
    }
   ],
   "source": [
    "#4.6 Матрицы. Часть 3 5 из 10 шагов\n",
    "\n",
    "n = int(input())\n",
    "matrix = [['0'] * n for _ in range(n)]\n",
    "for i in range(n):\n",
    "    matrix[i][i] = 1\n",
    "    matrix[i][n-i-1] = 1\n",
    "for r in range(n):\n",
    "    for c in range(n):\n",
    "        print(matrix[r][c], end=' ')\n",
    "    print()"
   ]
  },
  {
   "cell_type": "code",
   "execution_count": 23,
   "id": "b55e2a11",
   "metadata": {},
   "outputs": [
    {
     "name": "stdout",
     "output_type": "stream",
     "text": [
      "7\n",
      "1 1 1 1 1 1 1 \n",
      "0 1 1 1 1 1 0 \n",
      "0 0 1 1 1 0 0 \n",
      "0 0 0 1 0 0 0 \n",
      "0 0 1 1 1 0 0 \n",
      "0 1 1 1 1 1 0 \n",
      "1 1 1 1 1 1 1 \n"
     ]
    }
   ],
   "source": [
    "#4.6 Матрицы. Часть 3 6 из 10 шагов\n",
    "\n",
    "n = int(input())\n",
    "matrix = [['0'] * n for _ in range(n)]\n",
    "for i in range(n):\n",
    "    matrix[i][i] = 1\n",
    "    matrix[i][n-i-1] = 1\n",
    "for i in range(n):\n",
    "    for j in range(n):\n",
    "        if i > n - 1 - j and i > j or i < n - 1 - j and i < j:\n",
    "            matrix[i][j] = 1\n",
    "for r in range(n):\n",
    "    for c in range(n):\n",
    "        print(matrix[r][c], end=' ')\n",
    "    print()"
   ]
  },
  {
   "cell_type": "code",
   "execution_count": 49,
   "id": "2ab8fdce",
   "metadata": {},
   "outputs": [
    {
     "name": "stdout",
     "output_type": "stream",
     "text": [
      "3 7\n",
      "1   2   3   4   5   6   7   \n",
      "2   3   4   5   6   7   1   \n",
      "3   4   5   6   7   1   2   \n"
     ]
    }
   ],
   "source": [
    "#4.6 Матрицы. Часть 3 7 из 10 шагов\n",
    "\n",
    "n, m = [int(i) for i in input().split()]\n",
    "matrix = [[0] * m for _ in range(n)]\n",
    "\n",
    "for i in range(n):\n",
    "    for j in range(0, m):\n",
    "        if (i + j + 1) % m == 0:\n",
    "            matrix[i][j] = m\n",
    "        else:\n",
    "            matrix[i][j] = (i + j + 1) % m\n",
    "\n",
    "for i in range(n):\n",
    "    for j in range(m):\n",
    "        print(str(matrix[i][j]).ljust(3), end=' ')\n",
    "    print()"
   ]
  },
  {
   "cell_type": "code",
   "execution_count": 50,
   "id": "ebc10db9",
   "metadata": {},
   "outputs": [
    {
     "name": "stdout",
     "output_type": "stream",
     "text": [
      "3 7\n",
      "1  2  3  4  5  6  7  \n",
      "14 13 12 11 10 9  8  \n",
      "15 16 17 18 19 20 21 \n"
     ]
    }
   ],
   "source": [
    "#4.6 Матрицы. Часть 3 8 из 10 шагов\n",
    "\n",
    "a, b = input().split()\n",
    "a = int(a)\n",
    "b = int(b)\n",
    "matrix = []\n",
    "temp = []\n",
    "count = 0\n",
    "for i in range(a):\n",
    "    for j in range(b):\n",
    "        temp.append(count + 1)\n",
    "        count += 1\n",
    "    if i % 2 == 0:\n",
    "        matrix.append(temp)\n",
    "        temp = []\n",
    "    else:\n",
    "        temp.reverse()\n",
    "        matrix.append(temp)\n",
    "        temp = []\n",
    "for r in range(a):\n",
    "    for c in range(b):\n",
    "        print(str(matrix[r][c]).ljust(3), end='')\n",
    "    print()"
   ]
  },
  {
   "cell_type": "code",
   "execution_count": 1,
   "id": "33af9b9b",
   "metadata": {},
   "outputs": [
    {
     "name": "stdout",
     "output_type": "stream",
     "text": [
      "3 5\n",
      "1  2  4  7  10 \n",
      "3  5  8  11 13 \n",
      "6  9  12 14 15 \n"
     ]
    }
   ],
   "source": [
    "#4.6 Матрицы. Часть 3 9 из 10 шагов\n",
    "\n",
    "a, b = [int(i) for i in input().split()]\n",
    "matrix = [[0] * b for _ in range(a)]\n",
    "\n",
    "count = 1\n",
    "for k in range(a + b):    \n",
    "    for i in range(a):\n",
    "        for j in range(b):\n",
    "            if i + j == k:\n",
    "                matrix[i][j] = count\n",
    "                count += 1\n",
    "for r in range(a):\n",
    "    for c in range(b):\n",
    "        print(str(matrix[r][c]).ljust(3), end='')\n",
    "    print()"
   ]
  },
  {
   "cell_type": "code",
   "execution_count": 8,
   "id": "39f2762c",
   "metadata": {},
   "outputs": [
    {
     "name": "stdout",
     "output_type": "stream",
     "text": [
      "5 7\n",
      "1  2  3  4  5  6  7  \n",
      "20 21 22 23 24 25 8  \n",
      "19 32 33 34 35 26 9  \n",
      "18 31 30 29 28 27 10 \n",
      "17 16 15 14 13 12 11 \n"
     ]
    }
   ],
   "source": [
    "#4.6 Матрицы. Часть 3 10 из 10 шагов\n",
    "\n",
    "n, m = [int(i) for i in input().split()]\n",
    "matrix = [[0] * m for _ in range(n)]\n",
    "matrix[0] = [(z + 1) for z in range(m)]\n",
    "\n",
    "index = m\n",
    "count = n\n",
    "x = 0; y = m - 1; r1 = n; r2 = m \n",
    "while index < n * m:\n",
    "    count -= 1\n",
    "    if x < n and index < n * m:\n",
    "        r1 -= 1\n",
    "        for _ in range(r1):\n",
    "            x += 1\n",
    "            index += 1\n",
    "            matrix[x][y] = index\n",
    "        r2 -= 1\n",
    "        for _ in range(r2):\n",
    "            y -= 1\n",
    "            index += 1\n",
    "            matrix[x][y] = index\n",
    "    if x > 0 and index < n * m:\n",
    "        r1 -= 1\n",
    "        for _ in range(r1):\n",
    "            x -= 1\n",
    "            index += 1\n",
    "            matrix[x][y] = index\n",
    "        r2 -= 1\n",
    "        for _ in range(r2):\n",
    "            y += 1\n",
    "            index += 1\n",
    "            matrix[x][y] = index \n",
    "\n",
    "for r in range(n):\n",
    "    for c in range(m):\n",
    "        print(str(matrix[r][c]).ljust(3), end='')\n",
    "    print()"
   ]
  },
  {
   "cell_type": "code",
   "execution_count": 4,
   "id": "e46d2b5c",
   "metadata": {},
   "outputs": [
    {
     "name": "stdout",
     "output_type": "stream",
     "text": [
      "2 4\n",
      "1 2 3 4\n",
      "5 6 7 1\n",
      "\n",
      "3 2 1 2\n",
      "1 3 1 3\n",
      "4  4  4  6  \n",
      "6  9  8  4  \n"
     ]
    }
   ],
   "source": [
    "#4.7 Операции над матрицами в математике 9 из 11 шагов\n",
    "\n",
    "n, m = [int(i) for i in input().split()]\n",
    "a = []\n",
    "b = []\n",
    "c = [[0] * m for _ in range(n)]\n",
    "for _ in range(n):\n",
    "    temp = [int(num) for num in input().split()]\n",
    "    a.append(temp)\n",
    "input()\n",
    "for _ in range(n):\n",
    "    temp = [int(num) for num in input().split()]\n",
    "    b.append(temp)\n",
    "\n",
    "for i in range(n):\n",
    "    for j in range(m):\n",
    "        c[i][j] = (a[i][j] + b[i][j])\n",
    "\n",
    "for r in range(n):\n",
    "    for q in range(m):\n",
    "        print(str(c[r][q]).ljust(3), end='')\n",
    "    print()   "
   ]
  },
  {
   "cell_type": "code",
   "execution_count": 12,
   "id": "be194b9d",
   "metadata": {},
   "outputs": [
    {
     "name": "stdout",
     "output_type": "stream",
     "text": [
      "4 4\n",
      "1 1 1 1\n",
      "1 1 1 1\n",
      "8 8 8 8\n",
      "8 8 8 8\n",
      "\n",
      "4 4\n",
      "9 9 9 9\n",
      "9 9 9 9\n",
      "9 9 9 9\n",
      "9 9 9 9\n",
      "36 36 36 36 \n",
      "36 36 36 36 \n",
      "288 288 288 288 \n",
      "288 288 288 288 \n"
     ]
    }
   ],
   "source": [
    "#4.7 Операции над матрицами в математике 10 из 11 шагов\n",
    "\n",
    "\n",
    "a = []\n",
    "b = []\n",
    "n, m = [int(i) for i in input().split()]\n",
    "for _ in range(n):\n",
    "    temp = [int(num) for num in input().split()]\n",
    "    a.append(temp)\n",
    "input()\n",
    "d, e = [int(i) for i in input().split()]\n",
    "for _ in range(d):\n",
    "    temp = [int(num) for num in input().split()]\n",
    "    b.append(temp)\n",
    "\n",
    "c = [[0] * n for _ in range(e)]\n",
    "for i in range(n):\n",
    "    for j in range(n):\n",
    "        for r in range(m):\n",
    "            c[i][j] += a[i][r] * b[r][j]\n",
    "\n",
    "for f in range(n):\n",
    "    for g in range(e):\n",
    "        print(str(c[f][g]), end=' ')\n",
    "    print()   "
   ]
  },
  {
   "cell_type": "code",
   "execution_count": 37,
   "id": "0aed439d",
   "metadata": {},
   "outputs": [
    {
     "name": "stdout",
     "output_type": "stream",
     "text": [
      "1\n",
      "5\n",
      "3\n",
      "125 \n"
     ]
    }
   ],
   "source": [
    "#4.7 Операции над матрицами в математике 11 из 11 шагов\n",
    "import copy\n",
    "\n",
    "a = []\n",
    "b = []\n",
    "n = int(input())\n",
    "for _ in range(n):\n",
    "    temp = [int(num) for num in input().split()]\n",
    "    a.append(temp)\n",
    "    b.append(temp)\n",
    "m = int(input())\n",
    "c = [[0] * n for _ in range(n)]\n",
    "for _ in range(m - 1):\n",
    "    for i in range(n):\n",
    "        for j in range(n):\n",
    "            for r in range(n):\n",
    "                c[i][j] += a[i][r] * b[r][j]\n",
    "    a = copy.deepcopy(c)\n",
    "    c = [[0] * n for _ in range(n)]\n",
    "\n",
    "for f in range(n):\n",
    "    for g in range(n):\n",
    "        print(str(a[f][g]), end=' ')\n",
    "    print()"
   ]
  },
  {
   "cell_type": "code",
   "execution_count": null,
   "id": "b8370cf7",
   "metadata": {},
   "outputs": [],
   "source": []
  },
  {
   "cell_type": "code",
   "execution_count": null,
   "id": "ec51b9bb",
   "metadata": {},
   "outputs": [],
   "source": []
  }
 ],
 "metadata": {
  "kernelspec": {
   "display_name": "Python 3",
   "language": "python",
   "name": "python3"
  },
  "language_info": {
   "codemirror_mode": {
    "name": "ipython",
    "version": 3
   },
   "file_extension": ".py",
   "mimetype": "text/x-python",
   "name": "python",
   "nbconvert_exporter": "python",
   "pygments_lexer": "ipython3",
   "version": "3.8.8"
  }
 },
 "nbformat": 4,
 "nbformat_minor": 5
}
