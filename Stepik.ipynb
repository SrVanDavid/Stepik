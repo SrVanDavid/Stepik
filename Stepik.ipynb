{
 "cells": [
  {
   "cell_type": "code",
   "execution_count": null,
   "id": "6ce04611",
   "metadata": {},
   "outputs": [],
   "source": [
    "#4.5 Матрицы. Часть 2 4 из 9 шагов\n",
    "\n",
    "n = int(input())\n",
    "matrix = []\n",
    "for _ in range(n):\n",
    "    temp = [int(num) for num in input().split()]\n",
    "    matrix.append(temp)\n",
    "a = 0\n",
    "b = 0\n",
    "flag = True\n",
    "for x in range(n):\n",
    "    for y in range(n):\n",
    "        a = matrix[x][y]\n",
    "        b = matrix[y][x]\n",
    "        if a == b:\n",
    "            continue\n",
    "        if a != b:\n",
    "            break\n",
    "    if a != b:\n",
    "        flag = False\n",
    "        break\n",
    "if flag == True:\n",
    "    print('YES')\n",
    "if flag == False:\n",
    "    print('NO')"
   ]
  },
  {
   "cell_type": "code",
   "execution_count": null,
   "id": "7d677e14",
   "metadata": {},
   "outputs": [],
   "source": [
    "#4.5 Матрицы. Часть 2 5 из 9 шагов\n",
    "\n",
    "n = int(input())\n",
    "matrix = []\n",
    "for _ in range(n):\n",
    "    temp = [int(num) for num in input().split()]\n",
    "    matrix.append(temp)\n",
    "for x in range(n):\n",
    "    for y in range(n):\n",
    "        matrix[x][x], matrix[n - 1 - x][x] = matrix[n - 1 - x][x], matrix[x][x]\n",
    "for r in range(n):\n",
    "    for c in range(n):\n",
    "        print(matrix[r][c], end=' ')\n",
    "    print()"
   ]
  },
  {
   "cell_type": "code",
   "execution_count": null,
   "id": "4c2dbe2c",
   "metadata": {},
   "outputs": [],
   "source": [
    "#4.5 Матрицы. Часть 2 6 из 9 шагов\n",
    "\n",
    "n = int(input())\n",
    "matrix = []\n",
    "for _ in range(n):\n",
    "    temp = [int(num) for num in input().split()]\n",
    "    matrix.append(temp)\n",
    "total = []\n",
    "for x in range(n):\n",
    "    total.append(matrix[n-x-1])\n",
    "for r in range(n):\n",
    "    for c in range(n):\n",
    "        print(total[r][c], end=' ')\n",
    "    print()"
   ]
  },
  {
   "cell_type": "code",
   "execution_count": null,
   "id": "3beec697",
   "metadata": {},
   "outputs": [],
   "source": [
    "#4.5 Матрицы. Часть 2 7 из 9 шагов\n",
    "\n",
    "n = int(input())\n",
    "matrix = []\n",
    "for _ in range(n):\n",
    "    temp = [int(num) for num in input().split()]\n",
    "    matrix.append(temp)\n",
    "total = []\n",
    "for x in range(n):\n",
    "    for y in range(n):\n",
    "        total.append(matrix[n-y-1][x])\n",
    "for r in range(n):\n",
    "    for c in range(n):\n",
    "        print(total[r][c], end=' ')\n",
    "    print()"
   ]
  },
  {
   "cell_type": "code",
   "execution_count": 36,
   "id": "6fb6acbc",
   "metadata": {},
   "outputs": [
    {
     "name": "stdout",
     "output_type": "stream",
     "text": [
      "f3\n",
      ". . . . . . . . \n",
      ". . . . . . . . \n",
      ". . . . . . . . \n",
      ". . . . * . * . \n",
      ". . . * . . . * \n",
      ". . . . . N . . \n",
      ". . . * . . . * \n",
      ". . . . * . * . \n"
     ]
    }
   ],
   "source": [
    "#4.5 Матрицы. Часть 2 8 из 9 шагов\n",
    "\n",
    "a, b = input()\n",
    "matrix = [['.'] * 8 for _ in range(8)]\n",
    "x = ord(a) - 97\n",
    "y = 8 - int(b)\n",
    "matrix[y][x] = 'N'\n",
    "for i in range(8):\n",
    "    for j in range(8):\n",
    "        if (x - i) ** 2 + (y - j) ** 2 == 5:\n",
    "            matrix[j][i] = '*'\n",
    "for r in range(8):\n",
    "    for c in range(8):\n",
    "        print(matrix[r][c], end=' ')\n",
    "    print()"
   ]
  },
  {
   "cell_type": "code",
   "execution_count": 58,
   "id": "e372811b",
   "metadata": {},
   "outputs": [
    {
     "name": "stdout",
     "output_type": "stream",
     "text": [
      "3\n",
      "8 2 6\n",
      "3 5 7\n",
      "4 9 1\n",
      "NO\n"
     ]
    }
   ],
   "source": [
    "#4.5 Матрицы. Часть 2 9 из 9 шагов\n",
    "\n",
    "n = int(input())\n",
    "matrix = []\n",
    "for _ in range(n):\n",
    "    temp = [int(num) for num in input().split()]\n",
    "    matrix.append(temp)\n",
    "prov = [i for i in range(1, n ** 2 + 1)]\n",
    "temp = []\n",
    "for _ in range(n):\n",
    "    temp.extend(matrix[_])\n",
    "a = 0\n",
    "b = 0\n",
    "flag = True\n",
    "for i in range(n):\n",
    "    for j in range(n):\n",
    "        a += matrix[i][j]\n",
    "        b += matrix[j][i]\n",
    "    if a == b:\n",
    "        continue\n",
    "    else:\n",
    "        flag = False\n",
    "        break\n",
    "if flag == True:\n",
    "    for _ in range(1, n):\n",
    "        c = sum(matrix[0])\n",
    "        if sum(matrix[_]) == c:\n",
    "            continue\n",
    "        else:\n",
    "            flag = False\n",
    "            break\n",
    "if prov == sorted(temp) and flag == True:\n",
    "    print('YES')\n",
    "else:\n",
    "    print('NO')"
   ]
  },
  {
   "cell_type": "code",
   "execution_count": 8,
   "id": "d6c26071",
   "metadata": {},
   "outputs": [
    {
     "name": "stdout",
     "output_type": "stream",
     "text": [
      "2 2\n",
      ". * \n",
      "* . \n"
     ]
    }
   ],
   "source": [
    "#4.6 Матрицы. Часть 3 1 из 10 шагов\n",
    "\n",
    "a, b = input(). split()\n",
    "a = int(a)\n",
    "b = int(b)\n",
    "matrix = []\n",
    "temp = []\n",
    "d = '.'\n",
    "e = '*'\n",
    "for i in range(a):\n",
    "    for j in range(b):\n",
    "        if i % 2 == 0:\n",
    "            if j % 2 == 0:\n",
    "                temp.append(d)\n",
    "        if i % 2 == 0:\n",
    "            if j % 2 != 0:\n",
    "                temp.append(e)        \n",
    "        if i % 2 != 0:\n",
    "            if j % 2 == 0:\n",
    "                temp.append(e)\n",
    "        if i % 2 != 0:\n",
    "            if j % 2 != 0:\n",
    "                temp.append(d)\n",
    "    matrix.append(temp)\n",
    "    temp = []\n",
    "for r in range(a):\n",
    "    for c in range(b):\n",
    "        print(matrix[r][c], end=' ')\n",
    "    print()"
   ]
  },
  {
   "cell_type": "code",
   "execution_count": 14,
   "id": "e477ed5a",
   "metadata": {},
   "outputs": [
    {
     "name": "stdout",
     "output_type": "stream",
     "text": [
      "5\n",
      "0 0 0 0 1 \n",
      "0 0 0 1 2 \n",
      "0 0 1 2 2 \n",
      "0 1 2 2 2 \n",
      "1 2 2 2 2 \n"
     ]
    }
   ],
   "source": [
    "#4.6 Матрицы. Часть 3 2 из 10 шагов\n",
    "\n",
    "n = int(input())\n",
    "matrix = [['0'] * n for _ in range(n)]\n",
    "for i in range(n):\n",
    "    matrix[i][n-i-1] = 1\n",
    "for i in range(n):\n",
    "    for j in range(n):\n",
    "        if i > n - 1 - j:\n",
    "            matrix[i][j] = 2\n",
    "for r in range(n):\n",
    "    for c in range(n):\n",
    "        print(matrix[r][c], end=' ')\n",
    "    print()"
   ]
  },
  {
   "cell_type": "code",
   "execution_count": 33,
   "id": "f4267017",
   "metadata": {},
   "outputs": [
    {
     "name": "stdout",
     "output_type": "stream",
     "text": [
      "5 6\n",
      "1  2  3  4  5  6  \n",
      "7  8  9  10 11 12 \n",
      "13 14 15 16 17 18 \n",
      "19 20 21 22 23 24 \n",
      "25 26 27 28 29 30 \n"
     ]
    }
   ],
   "source": [
    "#4.6 Матрицы. Часть 3 3 из 10 шагов\n",
    "\n",
    "a, b = input().split()\n",
    "a = int(a)\n",
    "b = int(b)\n",
    "matrix = []\n",
    "temp = []\n",
    "count = 0\n",
    "for i in range(a):\n",
    "    for j in range(b):\n",
    "        temp.append(count + 1)\n",
    "        count += 1\n",
    "    matrix.append(temp)\n",
    "    temp = []\n",
    "for r in range(a):\n",
    "    for c in range(b):\n",
    "        print(str(matrix[r][c]).ljust(3), end='')\n",
    "    print()"
   ]
  },
  {
   "cell_type": "code",
   "execution_count": 18,
   "id": "4000502b",
   "metadata": {},
   "outputs": [
    {
     "name": "stdout",
     "output_type": "stream",
     "text": [
      "5 6\n",
      "1   6   11  16  21  26  \n",
      "2   7   12  17  22  27  \n",
      "3   8   13  18  23  28  \n",
      "4   9   14  19  24  29  \n",
      "5   10  15  20  25  30  \n"
     ]
    }
   ],
   "source": [
    "#4.6 Матрицы. Часть 3 4 из 10 шагов\n",
    "\n",
    "n, m = [int(i) for i in input().split()]\n",
    "matrix = [[0] * m for _ in range(n)]\n",
    "\n",
    "for i in range(n):\n",
    "    for j in range(m):\n",
    "        matrix[i][j] = i + n * j + 1\n",
    "\n",
    "for i in range(n):\n",
    "    for j in range(m):\n",
    "        print(str(matrix[i][j]).ljust(3), end=' ')\n",
    "    print()"
   ]
  },
  {
   "cell_type": "code",
   "execution_count": 20,
   "id": "31335c8f",
   "metadata": {},
   "outputs": [
    {
     "name": "stdout",
     "output_type": "stream",
     "text": [
      "2\n",
      "1 1 \n",
      "1 1 \n"
     ]
    }
   ],
   "source": [
    "#4.6 Матрицы. Часть 3 5 из 10 шагов\n",
    "\n",
    "n = int(input())\n",
    "matrix = [['0'] * n for _ in range(n)]\n",
    "for i in range(n):\n",
    "    matrix[i][i] = 1\n",
    "    matrix[i][n-i-1] = 1\n",
    "for r in range(n):\n",
    "    for c in range(n):\n",
    "        print(matrix[r][c], end=' ')\n",
    "    print()"
   ]
  },
  {
   "cell_type": "code",
   "execution_count": 23,
   "id": "b55e2a11",
   "metadata": {},
   "outputs": [
    {
     "name": "stdout",
     "output_type": "stream",
     "text": [
      "7\n",
      "1 1 1 1 1 1 1 \n",
      "0 1 1 1 1 1 0 \n",
      "0 0 1 1 1 0 0 \n",
      "0 0 0 1 0 0 0 \n",
      "0 0 1 1 1 0 0 \n",
      "0 1 1 1 1 1 0 \n",
      "1 1 1 1 1 1 1 \n"
     ]
    }
   ],
   "source": [
    "#4.6 Матрицы. Часть 3 6 из 10 шагов\n",
    "\n",
    "n = int(input())\n",
    "matrix = [['0'] * n for _ in range(n)]\n",
    "for i in range(n):\n",
    "    matrix[i][i] = 1\n",
    "    matrix[i][n-i-1] = 1\n",
    "for i in range(n):\n",
    "    for j in range(n):\n",
    "        if i > n - 1 - j and i > j or i < n - 1 - j and i < j:\n",
    "            matrix[i][j] = 1\n",
    "for r in range(n):\n",
    "    for c in range(n):\n",
    "        print(matrix[r][c], end=' ')\n",
    "    print()"
   ]
  },
  {
   "cell_type": "code",
   "execution_count": 49,
   "id": "2ab8fdce",
   "metadata": {},
   "outputs": [
    {
     "name": "stdout",
     "output_type": "stream",
     "text": [
      "3 7\n",
      "1   2   3   4   5   6   7   \n",
      "2   3   4   5   6   7   1   \n",
      "3   4   5   6   7   1   2   \n"
     ]
    }
   ],
   "source": [
    "#4.6 Матрицы. Часть 3 7 из 10 шагов\n",
    "\n",
    "n, m = [int(i) for i in input().split()]\n",
    "matrix = [[0] * m for _ in range(n)]\n",
    "\n",
    "for i in range(n):\n",
    "    for j in range(0, m):\n",
    "        if (i + j + 1) % m == 0:\n",
    "            matrix[i][j] = m\n",
    "        else:\n",
    "            matrix[i][j] = (i + j + 1) % m\n",
    "\n",
    "for i in range(n):\n",
    "    for j in range(m):\n",
    "        print(str(matrix[i][j]).ljust(3), end=' ')\n",
    "    print()"
   ]
  },
  {
   "cell_type": "code",
   "execution_count": 50,
   "id": "ebc10db9",
   "metadata": {},
   "outputs": [
    {
     "name": "stdout",
     "output_type": "stream",
     "text": [
      "3 7\n",
      "1  2  3  4  5  6  7  \n",
      "14 13 12 11 10 9  8  \n",
      "15 16 17 18 19 20 21 \n"
     ]
    }
   ],
   "source": [
    "#4.6 Матрицы. Часть 3 8 из 10 шагов\n",
    "\n",
    "a, b = input().split()\n",
    "a = int(a)\n",
    "b = int(b)\n",
    "matrix = []\n",
    "temp = []\n",
    "count = 0\n",
    "for i in range(a):\n",
    "    for j in range(b):\n",
    "        temp.append(count + 1)\n",
    "        count += 1\n",
    "    if i % 2 == 0:\n",
    "        matrix.append(temp)\n",
    "        temp = []\n",
    "    else:\n",
    "        temp.reverse()\n",
    "        matrix.append(temp)\n",
    "        temp = []\n",
    "for r in range(a):\n",
    "    for c in range(b):\n",
    "        print(str(matrix[r][c]).ljust(3), end='')\n",
    "    print()"
   ]
  },
  {
   "cell_type": "code",
   "execution_count": 1,
   "id": "33af9b9b",
   "metadata": {},
   "outputs": [
    {
     "name": "stdout",
     "output_type": "stream",
     "text": [
      "3 5\n",
      "1  2  4  7  10 \n",
      "3  5  8  11 13 \n",
      "6  9  12 14 15 \n"
     ]
    }
   ],
   "source": [
    "#4.6 Матрицы. Часть 3 9 из 10 шагов\n",
    "\n",
    "a, b = [int(i) for i in input().split()]\n",
    "matrix = [[0] * b for _ in range(a)]\n",
    "\n",
    "count = 1\n",
    "for k in range(a + b):    \n",
    "    for i in range(a):\n",
    "        for j in range(b):\n",
    "            if i + j == k:\n",
    "                matrix[i][j] = count\n",
    "                count += 1\n",
    "for r in range(a):\n",
    "    for c in range(b):\n",
    "        print(str(matrix[r][c]).ljust(3), end='')\n",
    "    print()"
   ]
  },
  {
   "cell_type": "code",
   "execution_count": 8,
   "id": "39f2762c",
   "metadata": {},
   "outputs": [
    {
     "name": "stdout",
     "output_type": "stream",
     "text": [
      "5 7\n",
      "1  2  3  4  5  6  7  \n",
      "20 21 22 23 24 25 8  \n",
      "19 32 33 34 35 26 9  \n",
      "18 31 30 29 28 27 10 \n",
      "17 16 15 14 13 12 11 \n"
     ]
    }
   ],
   "source": [
    "#4.6 Матрицы. Часть 3 10 из 10 шагов\n",
    "\n",
    "n, m = [int(i) for i in input().split()]\n",
    "matrix = [[0] * m for _ in range(n)]\n",
    "matrix[0] = [(z + 1) for z in range(m)]\n",
    "\n",
    "index = m\n",
    "count = n\n",
    "x = 0; y = m - 1; r1 = n; r2 = m \n",
    "while index < n * m:\n",
    "    count -= 1\n",
    "    if x < n and index < n * m:\n",
    "        r1 -= 1\n",
    "        for _ in range(r1):\n",
    "            x += 1\n",
    "            index += 1\n",
    "            matrix[x][y] = index\n",
    "        r2 -= 1\n",
    "        for _ in range(r2):\n",
    "            y -= 1\n",
    "            index += 1\n",
    "            matrix[x][y] = index\n",
    "    if x > 0 and index < n * m:\n",
    "        r1 -= 1\n",
    "        for _ in range(r1):\n",
    "            x -= 1\n",
    "            index += 1\n",
    "            matrix[x][y] = index\n",
    "        r2 -= 1\n",
    "        for _ in range(r2):\n",
    "            y += 1\n",
    "            index += 1\n",
    "            matrix[x][y] = index \n",
    "\n",
    "for r in range(n):\n",
    "    for c in range(m):\n",
    "        print(str(matrix[r][c]).ljust(3), end='')\n",
    "    print()"
   ]
  },
  {
   "cell_type": "code",
   "execution_count": 4,
   "id": "e46d2b5c",
   "metadata": {},
   "outputs": [
    {
     "name": "stdout",
     "output_type": "stream",
     "text": [
      "2 4\n",
      "1 2 3 4\n",
      "5 6 7 1\n",
      "\n",
      "3 2 1 2\n",
      "1 3 1 3\n",
      "4  4  4  6  \n",
      "6  9  8  4  \n"
     ]
    }
   ],
   "source": [
    "#4.7 Операции над матрицами в математике 9 из 11 шагов\n",
    "\n",
    "n, m = [int(i) for i in input().split()]\n",
    "a = []\n",
    "b = []\n",
    "c = [[0] * m for _ in range(n)]\n",
    "for _ in range(n):\n",
    "    temp = [int(num) for num in input().split()]\n",
    "    a.append(temp)\n",
    "input()\n",
    "for _ in range(n):\n",
    "    temp = [int(num) for num in input().split()]\n",
    "    b.append(temp)\n",
    "\n",
    "for i in range(n):\n",
    "    for j in range(m):\n",
    "        c[i][j] = (a[i][j] + b[i][j])\n",
    "\n",
    "for r in range(n):\n",
    "    for q in range(m):\n",
    "        print(str(c[r][q]).ljust(3), end='')\n",
    "    print()   "
   ]
  },
  {
   "cell_type": "code",
   "execution_count": 12,
   "id": "be194b9d",
   "metadata": {},
   "outputs": [
    {
     "name": "stdout",
     "output_type": "stream",
     "text": [
      "4 4\n",
      "1 1 1 1\n",
      "1 1 1 1\n",
      "8 8 8 8\n",
      "8 8 8 8\n",
      "\n",
      "4 4\n",
      "9 9 9 9\n",
      "9 9 9 9\n",
      "9 9 9 9\n",
      "9 9 9 9\n",
      "36 36 36 36 \n",
      "36 36 36 36 \n",
      "288 288 288 288 \n",
      "288 288 288 288 \n"
     ]
    }
   ],
   "source": [
    "#4.7 Операции над матрицами в математике 10 из 11 шагов\n",
    "\n",
    "\n",
    "a = []\n",
    "b = []\n",
    "n, m = [int(i) for i in input().split()]\n",
    "for _ in range(n):\n",
    "    temp = [int(num) for num in input().split()]\n",
    "    a.append(temp)\n",
    "input()\n",
    "d, e = [int(i) for i in input().split()]\n",
    "for _ in range(d):\n",
    "    temp = [int(num) for num in input().split()]\n",
    "    b.append(temp)\n",
    "\n",
    "c = [[0] * n for _ in range(e)]\n",
    "for i in range(n):\n",
    "    for j in range(n):\n",
    "        for r in range(m):\n",
    "            c[i][j] += a[i][r] * b[r][j]\n",
    "\n",
    "for f in range(n):\n",
    "    for g in range(e):\n",
    "        print(str(c[f][g]), end=' ')\n",
    "    print()   "
   ]
  },
  {
   "cell_type": "code",
   "execution_count": 37,
   "id": "0aed439d",
   "metadata": {},
   "outputs": [
    {
     "name": "stdout",
     "output_type": "stream",
     "text": [
      "1\n",
      "5\n",
      "3\n",
      "125 \n"
     ]
    }
   ],
   "source": [
    "#4.7 Операции над матрицами в математике 11 из 11 шагов\n",
    "import copy\n",
    "\n",
    "a = []\n",
    "b = []\n",
    "n = int(input())\n",
    "for _ in range(n):\n",
    "    temp = [int(num) for num in input().split()]\n",
    "    a.append(temp)\n",
    "    b.append(temp)\n",
    "m = int(input())\n",
    "c = [[0] * n for _ in range(n)]\n",
    "for _ in range(m - 1):\n",
    "    for i in range(n):\n",
    "        for j in range(n):\n",
    "            for r in range(n):\n",
    "                c[i][j] += a[i][r] * b[r][j]\n",
    "    a = copy.deepcopy(c)\n",
    "    c = [[0] * n for _ in range(n)]\n",
    "\n",
    "for f in range(n):\n",
    "    for g in range(n):\n",
    "        print(str(a[f][g]), end=' ')\n",
    "    print()"
   ]
  },
  {
   "cell_type": "code",
   "execution_count": 47,
   "id": "b8370cf7",
   "metadata": {},
   "outputs": [
    {
     "name": "stdout",
     "output_type": "stream",
     "text": [
      "a b c d e f g h i j k l m n\n",
      "2\n",
      "[['a', 'c', 'e', 'g', 'i', 'k', 'm'], ['b', 'd', 'f', 'h', 'j', 'l', 'n']]\n"
     ]
    }
   ],
   "source": [
    "# Экзамен, чтоб его. 1\n",
    "\n",
    "def chunked(n, a):\n",
    "    total = []\n",
    "    count = 0\n",
    "    for i in range(0, n):\n",
    "        total.append(a[i::n])\n",
    "        count = i\n",
    "    return total\n",
    "\n",
    "a = input().split()\n",
    "n = int(input())\n",
    "\n",
    "print(chunked(n, a))"
   ]
  },
  {
   "cell_type": "code",
   "execution_count": 50,
   "id": "155d6f88",
   "metadata": {},
   "outputs": [
    {
     "name": "stdout",
     "output_type": "stream",
     "text": [
      "1\n",
      "9\n",
      "9\n"
     ]
    }
   ],
   "source": [
    "# Экзамен, чтоб его. 2\n",
    "\n",
    "n = int(input())\n",
    "matrix = []\n",
    "max = -10 ** 36\n",
    "for i in range(n):\n",
    "    temp = [int(num) for num in input().split()]\n",
    "    matrix.append(temp)\n",
    "if n == 1:\n",
    "    max = matrix[0][0]\n",
    "for y in range(n):\n",
    "    for z in range(n):\n",
    "        if matrix[y][z] > max and y + z + 1 == n:\n",
    "            max = matrix[y][z]\n",
    "for y in range(n):\n",
    "    for z in range(n):\n",
    "        if matrix[y][z] > max and y > n - 1 - z:\n",
    "            max = matrix[y][z]\n",
    "print(max)"
   ]
  },
  {
   "cell_type": "code",
   "execution_count": 52,
   "id": "053fbc8d",
   "metadata": {},
   "outputs": [
    {
     "name": "stdout",
     "output_type": "stream",
     "text": [
      "3\n",
      "1 2 3\n",
      "4 5 6\n",
      "7 8 9\n",
      "1 4 7 \n",
      "2 5 8 \n",
      "3 6 9 \n"
     ]
    }
   ],
   "source": [
    "# Экзамен, чтоб его. 3\n",
    "\n",
    "n = int(input())\n",
    "matrix = []\n",
    "for i in range(n):\n",
    "    temp = [int(num) for num in input().split()]\n",
    "    matrix.append(temp)\n",
    "\n",
    "for r in range(n):\n",
    "    for c in range(n):\n",
    "        print(matrix[c][r], end=' ')\n",
    "    print()"
   ]
  },
  {
   "cell_type": "code",
   "execution_count": 62,
   "id": "825575ca",
   "metadata": {},
   "outputs": [
    {
     "name": "stdout",
     "output_type": "stream",
     "text": [
      "11\n",
      "* . . . . * . . . . * \n",
      ". * . . . * . . . * . \n",
      ". . * . . * . . * . . \n",
      ". . . * . * . * . . . \n",
      ". . . . * * * . . . . \n",
      "* * * * * * * * * * * \n",
      ". . . . * * * . . . . \n",
      ". . . * . * . * . . . \n",
      ". . * . . * . . * . . \n",
      ". * . . . * . . . * . \n",
      "* . . . . * . . . . * \n"
     ]
    }
   ],
   "source": [
    "# Экзамен, чтоб его. 4\n",
    "\n",
    "n = int(input())\n",
    "matrix = matrix = [['.'] * n for _ in range(n)]\n",
    "for i in range(n):\n",
    "    for j in range(n):\n",
    "        if i == j or n == i + j + 1 or i == (n - 1) // 2 or j == (n - 1) // 2:\n",
    "            matrix[i][j] = '*'\n",
    "\n",
    "for r in range(n):\n",
    "    for c in range(n):\n",
    "        print(matrix[c][r], end=' ')\n",
    "    print()"
   ]
  },
  {
   "cell_type": "code",
   "execution_count": null,
   "id": "66a2368c",
   "metadata": {},
   "outputs": [],
   "source": [
    "# Экзамен, чтоб его. 5\n",
    "\n",
    "n = int(input())\n",
    "matrix = [input().split() for _ in range(n)]\n",
    "result = 'YES'\n",
    "\n",
    "for i in range(n):\n",
    "    for j in range(n):\n",
    "        if matrix[i][j] != matrix[n - j - 1][n - i - 1]:\n",
    "            result = 'NO'\n",
    "            break\n",
    "    if result == 'NO':\n",
    "        break\n",
    "\n",
    "print(result)"
   ]
  },
  {
   "cell_type": "code",
   "execution_count": null,
   "id": "e5c9c616",
   "metadata": {},
   "outputs": [],
   "source": [
    "# Экзамен, чтоб его. 6\n",
    "\n",
    "n = int(input())\n",
    "matrix = []\n",
    "for i in range(n):\n",
    "    temp = [int(num) for num in input().split()]\n",
    "    matrix.append(temp)\n",
    "result = 'YES'\n",
    "control = sum(matrix[0])\n",
    "count = 0\n",
    "q = [(z + 1) for z in range(n)]\n",
    "if control != q:\n",
    "    result = 'NO'\n",
    "for i in range(n):\n",
    "    if sum(matrix[i]) == control:\n",
    "        continue\n",
    "    else:\n",
    "        result = 'NO'\n",
    "        break\n",
    "for j in range(n):\n",
    "    for g in range(n):\n",
    "        count += matrix[g][j]\n",
    "    if count == control:\n",
    "        count = 0\n",
    "        continue\n",
    "    else:\n",
    "        result = 'NO'\n",
    "        break\n",
    "    \n",
    "print(result)"
   ]
  },
  {
   "cell_type": "code",
   "execution_count": 70,
   "id": "55a91908",
   "metadata": {},
   "outputs": [
    {
     "name": "stdout",
     "output_type": "stream",
     "text": [
      "a1\n",
      "* . . . . . . * \n",
      "* . . . . . * . \n",
      "* . . . . * . . \n",
      "* . . . * . . . \n",
      "* . . * . . . . \n",
      "* . * . . . . . \n",
      "* * . . . . . . \n",
      "Q * * * * * * * \n"
     ]
    }
   ],
   "source": [
    "# Экзамен, чтоб его. 7\n",
    "\n",
    "a, b = input()\n",
    "matrix = [['.'] * 8 for _ in range(8)]\n",
    "x = ord(a) - 97\n",
    "y = 8 - int(b)\n",
    "for i in range(8):\n",
    "    for j in range(8):\n",
    "        matrix[y][j] = '*'\n",
    "        matrix[i][x] = '*'\n",
    "        if i - j == y - x or i + j == y + x:\n",
    "            matrix[i][j] = '*'\n",
    "matrix[y][x] = 'Q'\n",
    "for r in range(8):\n",
    "    for c in range(8):\n",
    "        print(matrix[r][c], end=' ')\n",
    "    print()"
   ]
  },
  {
   "cell_type": "code",
   "execution_count": 73,
   "id": "1c53be40",
   "metadata": {},
   "outputs": [
    {
     "name": "stdout",
     "output_type": "stream",
     "text": [
      "11\n",
      "0 1 2 3 4 5 6 7 8 9 10 \n",
      "1 0 1 2 3 4 5 6 7 8 9 \n",
      "2 1 0 1 2 3 4 5 6 7 8 \n",
      "3 2 1 0 1 2 3 4 5 6 7 \n",
      "4 3 2 1 0 1 2 3 4 5 6 \n",
      "5 4 3 2 1 0 1 2 3 4 5 \n",
      "6 5 4 3 2 1 0 1 2 3 4 \n",
      "7 6 5 4 3 2 1 0 1 2 3 \n",
      "8 7 6 5 4 3 2 1 0 1 2 \n",
      "9 8 7 6 5 4 3 2 1 0 1 \n",
      "10 9 8 7 6 5 4 3 2 1 0 \n"
     ]
    }
   ],
   "source": [
    "n = int(input())\n",
    "matrix = [['0'] * n for _ in range(n)]\n",
    "\n",
    "for i in range(n):\n",
    "    for j in range(n):\n",
    "        matrix[i][j] = abs(i - j)\n",
    "for r in range(n):\n",
    "    for c in range(n):\n",
    "        print(matrix[r][c], end=' ')\n",
    "    print()"
   ]
  },
  {
   "cell_type": "code",
   "execution_count": 2,
   "id": "1c7f8e72",
   "metadata": {},
   "outputs": [
    {
     "name": "stdout",
     "output_type": "stream",
     "text": [
      "14\n",
      "16\n",
      "5\n",
      "10\n",
      "3\n",
      "2\n",
      "24\n"
     ]
    }
   ],
   "source": [
    "# 8.2 Операции над множествами, диаграммы Эйлера-Венна 14 из 15 шагов\n",
    "\n",
    "n = int(input())  #Количество учеников на море\n",
    "m = int(input())  #Количество учеников в деревне\n",
    "k = int(input())  #Количество учеников в горах\n",
    "x = int(input())  #Количество учеников в деревне и на море\n",
    "y = int(input())  #Количество учеников в деревне и в горах\n",
    "z = int(input())  #Количество учеников писавших ДВИ по математике\n",
    "Q = ((n - x) + (m - x - y) + (k - y) + x + z + y)\n",
    "print(Q)"
   ]
  },
  {
   "cell_type": "code",
   "execution_count": 1,
   "id": "7ac5ac7d",
   "metadata": {},
   "outputs": [
    {
     "ename": "KeyboardInterrupt",
     "evalue": "Interrupted by user",
     "output_type": "error",
     "traceback": [
      "\u001b[1;31m---------------------------------------------------------------------------\u001b[0m",
      "\u001b[1;31mKeyboardInterrupt\u001b[0m                         Traceback (most recent call last)",
      "\u001b[1;32m<ipython-input-1-5f8062e25693>\u001b[0m in \u001b[0;36m<module>\u001b[1;34m\u001b[0m\n\u001b[0;32m      1\u001b[0m \u001b[1;31m# 8.2 Операции над множествами, диаграммы Эйлера-Венна 15 из 15 шагов\u001b[0m\u001b[1;33m\u001b[0m\u001b[1;33m\u001b[0m\u001b[1;33m\u001b[0m\u001b[0m\n\u001b[0;32m      2\u001b[0m \u001b[1;33m\u001b[0m\u001b[0m\n\u001b[1;32m----> 3\u001b[1;33m \u001b[0mn\u001b[0m \u001b[1;33m=\u001b[0m \u001b[0mint\u001b[0m\u001b[1;33m(\u001b[0m\u001b[0minput\u001b[0m\u001b[1;33m(\u001b[0m\u001b[1;33m)\u001b[0m\u001b[1;33m)\u001b[0m  \u001b[1;31m#Ученики которые прочли 1-ю книгу\u001b[0m\u001b[1;33m\u001b[0m\u001b[1;33m\u001b[0m\u001b[0m\n\u001b[0m\u001b[0;32m      4\u001b[0m \u001b[0mm\u001b[0m \u001b[1;33m=\u001b[0m \u001b[0mint\u001b[0m\u001b[1;33m(\u001b[0m\u001b[0minput\u001b[0m\u001b[1;33m(\u001b[0m\u001b[1;33m)\u001b[0m\u001b[1;33m)\u001b[0m  \u001b[1;31m#Ученики которые прочли 2-ю книгу\u001b[0m\u001b[1;33m\u001b[0m\u001b[1;33m\u001b[0m\u001b[0m\n\u001b[0;32m      5\u001b[0m \u001b[0mk\u001b[0m \u001b[1;33m=\u001b[0m \u001b[0mint\u001b[0m\u001b[1;33m(\u001b[0m\u001b[0minput\u001b[0m\u001b[1;33m(\u001b[0m\u001b[1;33m)\u001b[0m\u001b[1;33m)\u001b[0m  \u001b[1;31m#Ученики которые прочли 3-ю книгу\u001b[0m\u001b[1;33m\u001b[0m\u001b[1;33m\u001b[0m\u001b[0m\n",
      "\u001b[1;32mC:\\ProgramData\\Anaconda3\\lib\\site-packages\\ipykernel\\kernelbase.py\u001b[0m in \u001b[0;36mraw_input\u001b[1;34m(self, prompt)\u001b[0m\n\u001b[0;32m    858\u001b[0m                 \u001b[1;34m\"raw_input was called, but this frontend does not support input requests.\"\u001b[0m\u001b[1;33m\u001b[0m\u001b[1;33m\u001b[0m\u001b[0m\n\u001b[0;32m    859\u001b[0m             )\n\u001b[1;32m--> 860\u001b[1;33m         return self._input_request(str(prompt),\n\u001b[0m\u001b[0;32m    861\u001b[0m             \u001b[0mself\u001b[0m\u001b[1;33m.\u001b[0m\u001b[0m_parent_ident\u001b[0m\u001b[1;33m,\u001b[0m\u001b[1;33m\u001b[0m\u001b[1;33m\u001b[0m\u001b[0m\n\u001b[0;32m    862\u001b[0m             \u001b[0mself\u001b[0m\u001b[1;33m.\u001b[0m\u001b[0m_parent_header\u001b[0m\u001b[1;33m,\u001b[0m\u001b[1;33m\u001b[0m\u001b[1;33m\u001b[0m\u001b[0m\n",
      "\u001b[1;32mC:\\ProgramData\\Anaconda3\\lib\\site-packages\\ipykernel\\kernelbase.py\u001b[0m in \u001b[0;36m_input_request\u001b[1;34m(self, prompt, ident, parent, password)\u001b[0m\n\u001b[0;32m    902\u001b[0m             \u001b[1;32mexcept\u001b[0m \u001b[0mKeyboardInterrupt\u001b[0m\u001b[1;33m:\u001b[0m\u001b[1;33m\u001b[0m\u001b[1;33m\u001b[0m\u001b[0m\n\u001b[0;32m    903\u001b[0m                 \u001b[1;31m# re-raise KeyboardInterrupt, to truncate traceback\u001b[0m\u001b[1;33m\u001b[0m\u001b[1;33m\u001b[0m\u001b[1;33m\u001b[0m\u001b[0m\n\u001b[1;32m--> 904\u001b[1;33m                 \u001b[1;32mraise\u001b[0m \u001b[0mKeyboardInterrupt\u001b[0m\u001b[1;33m(\u001b[0m\u001b[1;34m\"Interrupted by user\"\u001b[0m\u001b[1;33m)\u001b[0m \u001b[1;32mfrom\u001b[0m \u001b[1;32mNone\u001b[0m\u001b[1;33m\u001b[0m\u001b[1;33m\u001b[0m\u001b[0m\n\u001b[0m\u001b[0;32m    905\u001b[0m             \u001b[1;32mexcept\u001b[0m \u001b[0mException\u001b[0m \u001b[1;32mas\u001b[0m \u001b[0me\u001b[0m\u001b[1;33m:\u001b[0m\u001b[1;33m\u001b[0m\u001b[1;33m\u001b[0m\u001b[0m\n\u001b[0;32m    906\u001b[0m                 \u001b[0mself\u001b[0m\u001b[1;33m.\u001b[0m\u001b[0mlog\u001b[0m\u001b[1;33m.\u001b[0m\u001b[0mwarning\u001b[0m\u001b[1;33m(\u001b[0m\u001b[1;34m\"Invalid Message:\"\u001b[0m\u001b[1;33m,\u001b[0m \u001b[0mexc_info\u001b[0m\u001b[1;33m=\u001b[0m\u001b[1;32mTrue\u001b[0m\u001b[1;33m)\u001b[0m\u001b[1;33m\u001b[0m\u001b[1;33m\u001b[0m\u001b[0m\n",
      "\u001b[1;31mKeyboardInterrupt\u001b[0m: Interrupted by user"
     ]
    }
   ],
   "source": [
    "# 8.2 Операции над множествами, диаграммы Эйлера-Венна 15 из 15 шагов\n",
    "\n",
    "n = int(input())  #Ученики которые прочли 1-ю книгу\n",
    "m = int(input())  #Ученики которые прочли 2-ю книгу\n",
    "k = int(input())  #Ученики которые прочли 3-ю книгу\n",
    "x = int(input())  #Ученики которые прочли 1-ю и 2-ю книгу или обе\n",
    "y = int(input())  #Ученики которые прочли 2-ю и 3-ю книгу или обе\n",
    "z = int(input())  #Ученики которые прочли 1-ю и 3-ю книгу или хотя бы одну из них\n",
    "t = int(input())  #Количество учеников прочитавших все три книги\n",
    "a = int(input())  #Количество учеников всего\n",
    "b = ((n - (n + m - x - t) - t - (n + k - z - t)) + (m - (n + m - x - t) - t - (m + k - y - t)) + (k - (n + k - z - t) - t - (m + k - y - t)))\n",
    "c = ((n + m - x - t) + (m + k - y - t) + (n + k - z - t))\n",
    "d = a - b - c\n",
    "print(b)\n",
    "print(c)"
   ]
  },
  {
   "cell_type": "code",
   "execution_count": 10,
   "id": "eaa85cee",
   "metadata": {},
   "outputs": [
    {
     "name": "stdout",
     "output_type": "stream",
     "text": [
      "1 5 4 2 5 6 6 2 3 3 5 2\n",
      "2 3 5 10 2 10 2 6 7 10 10 6\n",
      "1 4 6 9 8 7 0 9 0 9 8 10\n",
      "0 1 2 3 4 5 7 8 9 10\n"
     ]
    }
   ],
   "source": [
    "set1 = set([int(i) for i in input().split()])\n",
    "set2 = set([int(i) for i in input().split()])\n",
    "set3 = set([int(i) for i in input().split()])\n",
    "iset1 = {0, 1, 2, 3, 4, 5, 6, 7, 8, 9, 10}\n",
    "iset2 = iset1 - set1 - set2\n",
    "iset3 = iset1 - set2 \n",
    "iset4 = iset1 - set3\n",
    "iset5 = iset2 | iset3 | iset4\n",
    "print(*sorted(iset3))"
   ]
  },
  {
   "cell_type": "code",
   "execution_count": 57,
   "id": "113df150",
   "metadata": {},
   "outputs": [
    {
     "name": "stdout",
     "output_type": "stream",
     "text": [
      "Python.PNg board.pNg png.png python.png stepik.png\n"
     ]
    }
   ],
   "source": [
    "files = ['python.png', 'qwerty.py', 'stepik.png', 'beegeek.org', 'windows.pnp', 'pen.txt', 'phone.py', 'book.txT', 'board.pNg', 'keyBoard.jpg', 'Python.PNg', 'apple.jpeg', 'png.png', 'input.tXt', 'split.pop', 'solution.Py', 'stepik.org', 'kotlin.ko', 'github.git']\n",
    "iset = {i for i in files if '.png' in i.lower()}\n",
    "print(*sorted(iset))"
   ]
  },
  {
   "cell_type": "code",
   "execution_count": 1,
   "id": "294bf42c",
   "metadata": {},
   "outputs": [
    {
     "name": "stdout",
     "output_type": "stream",
     "text": [
      "99.12\n"
     ]
    }
   ],
   "source": [
    "my_dict = {1.12: 'aa', 67.9: 45, 3.11: 'ccc', 7.9: 'dd', 9.2: 'ee', 7.1: 'ff', 0.12: 'qq', 1.91: 'aa', 10.12: [1, 2, 3], 99.0: {9, 0, 1}}\n",
    "\n",
    "print(min(my_dict) + max(my_dict))"
   ]
  },
  {
   "cell_type": "code",
   "execution_count": 15,
   "id": "ad8da296",
   "metadata": {},
   "outputs": [
    {
     "name": "stdout",
     "output_type": "stream",
     "text": [
      "Helga LJ Maria Riyad Ruslan "
     ]
    }
   ],
   "source": [
    "users = [{'name': 'Todd', 'phone': '551-1414', 'email': 'todd@gmail.com'},\n",
    "         {'name': 'Helga', 'phone': '555-1618', 'email': 'helga@mail.net'},\n",
    "         {'name': 'Olivia', 'phone': '449-3141', 'email': ''},\n",
    "         {'name': 'LJ', 'phone': '555-2718', 'email': 'lj@gmail.net'},\n",
    "         {'name': 'Ruslan', 'phone': '422-145-9098', 'email': 'rus-lan.cha@yandex.ru'},\n",
    "         {'name': 'John', 'phone': '233-421-32', 'email': ''},\n",
    "         {'name': 'Lara', 'phone': '+7998-676-2532', 'email': 'g.lara89@gmail.com'},\n",
    "         {'name': 'Alina', 'phone': '+7948-799-2434', 'email': 'ali.ch.b@gmail.com'},\n",
    "         {'name': 'Robert', 'phone': '420-2011', 'email': ''},\n",
    "         {'name': 'Riyad', 'phone': '128-8890-128', 'email': 'r.mahrez@mail.net'},\n",
    "         {'name': 'Khabib', 'phone': '+7995-600-9080', 'email': 'kh.nurmag@gmail.com'},\n",
    "         {'name': 'Olga', 'phone': '6449-314-1213', 'email': ''},\n",
    "         {'name': 'Roman', 'phone': '+7459-145-8059', 'email': 'roma988@mail.ru'},\n",
    "         {'name': 'Maria', 'phone': '12-129-3148', 'email': 'm.sharapova@gmail.com'},\n",
    "         {'name': 'Fedor', 'phone': '+7445-341-0545', 'email': ''},\n",
    "         {'name': 'Tim', 'phone': '242-449-3141', 'email': 'timm.ggg@yandex.ru'}]\n",
    "names = []\n",
    "for user in users:\n",
    "    if user['phone'].endswith('8'):\n",
    "        names.append(user['name'])\n",
    "names = sorted(names)\n",
    "print(*names, end = ' ')"
   ]
  },
  {
   "cell_type": "code",
   "execution_count": 7,
   "id": "fb53b3cd",
   "metadata": {},
   "outputs": [
    {
     "name": "stdout",
     "output_type": "stream",
     "text": [
      "He said: \"I can solve this problem\".\n"
     ]
    }
   ],
   "source": [
    "d={\".\":'1', \",\":'11', \"?\":'111', \"!\":'1111', \":\":'11111',\n",
    "    \"A\":'2', \"B\":'22', \"C\":'222',\n",
    "    \"D\":'3', \"E\":'33', \"F\":'333',\n",
    "    \"G\":'4', \"H\":'44', \"I\":'444',\n",
    "    \"J\":'5', \"K\":'55', \"L\":'555',\n",
    "    \"M\":'6', \"N\":'66', \"O\":'666',\n",
    "    \"P\":'7', \"Q\":'77', \"R\":'777', \"S\": '7777',\n",
    "    \"T\":'8', \"U\":'88', \"V\":'888',\n",
    "    \"W\":'9', \"X\":'99', \"Y\":'999', \"Z\": '9999',\n",
    "    \" \":'0'\n",
    "}\n",
    "a = [i for i in input()]\n",
    "for i in a:\n",
    "    if i.upper in d.keys():\n",
    "        print(d[i.upper], end='')\n",
    "    else:\n",
    "        continue"
   ]
  },
  {
   "cell_type": "code",
   "execution_count": 10,
   "id": "499e9827",
   "metadata": {},
   "outputs": [
    {
     "name": "stdout",
     "output_type": "stream",
     "text": [
      "Interstellar\n",
      ".. -. - . .-. ... - . .-.. .-.. .- .-. "
     ]
    }
   ],
   "source": [
    "letters = [c for c in 'ABCDEFGHIJKLMNOPQRSTUVWXYZ0123456789']\n",
    "morse = ['.-', '-...', '-.-.', '-..', '.', '..-.', '--.', '....', '..', '.---', '-.-', '.-..', '--', '-.', '---', '.--.', '--.-', '.-.', '...', '-', '..-', '...-', '.--', '-..-', '-.--', '--..', '-----', '.----', '..---', '...--', '....-', '.....', '-....', '--...', '---..', '----.']\n",
    "a = {}\n",
    "for i in range(len(letters)):\n",
    "    a.setdefault(letters[i], morse[i])\n",
    "b = [i.upper() for i in input()]\n",
    "for i in b:\n",
    "    if i in d.keys():\n",
    "        print(a[i], end=' ')\n",
    "    else:\n",
    "        continue\n",
    "\n",
    "\n"
   ]
  },
  {
   "cell_type": "code",
   "execution_count": 3,
   "id": "8c0a9c84",
   "metadata": {},
   "outputs": [
    {
     "name": "stdout",
     "output_type": "stream",
     "text": [
      "{'orange': 8, 'strawberry': 4, 'barley': 12, 'gooseberry': 3, 'apple': 2, 'apricot': 7, 'currant': 6, 'melon': 5, 'pomegranate': 5, 'banana': 12, 'plum': 4, 'grapefruit': 6, 'quince': 5, 'grapes': 1, 'raspberry': 1, 'lime': 3}\n"
     ]
    }
   ],
   "source": [
    "s = 'orange strawberry barley gooseberry apple apricot barley currant orange melon pomegranate banana banana orange barley apricot plum grapefruit banana quince strawberry barley grapefruit banana grapes melon strawberry apricot currant currant gooseberry raspberry apricot currant orange lime quince grapefruit barley banana melon pomegranate barley banana orange barley apricot plum banana quince lime grapefruit strawberry gooseberry apple barley apricot currant orange melon pomegranate banana banana orange apricot barley plum banana grapefruit banana quince currant orange melon pomegranate barley plum banana quince barley lime grapefruit pomegranate barley'\n",
    "a = [i for i in s.split()]\n",
    "result = {}\n",
    "for num in a:\n",
    "    result[num] = result.get(num, 0) + 1\n",
    "print(result)"
   ]
  },
  {
   "cell_type": "code",
   "execution_count": 16,
   "id": "a56cc78b",
   "metadata": {},
   "outputs": [
    {
     "name": "stdout",
     "output_type": "stream",
     "text": [
      "banana\n"
     ]
    }
   ],
   "source": [
    "s = 'orange strawberry barley gooseberry apple apricot barley currant orange melon pomegranate banana banana orange barley apricot plum grapefruit banana quince strawberry barley grapefruit banana grapes melon strawberry apricot currant currant gooseberry raspberry apricot currant orange lime quince grapefruit barley banana melon pomegranate barley banana orange barley apricot plum banana quince lime grapefruit strawberry gooseberry apple barley apricot currant orange melon pomegranate banana banana orange apricot barley plum banana grapefruit banana quince currant orange melon pomegranate barley plum banana quince barley lime grapefruit pomegranate barley'\n",
    "a = s.split()\n",
    "b = []\n",
    "c = 1\n",
    "result = {}\n",
    "for num in a:\n",
    "    result[num] = result.get(num, 0) + 1\n",
    "for k, v in result.items():\n",
    "    if c <= v:\n",
    "        c = v\n",
    "        b.append(k)\n",
    "    else:\n",
    "        continue\n",
    "print(sorted(b)[0])"
   ]
  },
  {
   "cell_type": "code",
   "execution_count": 14,
   "id": "b2104b33",
   "metadata": {},
   "outputs": [
    {
     "name": "stdout",
     "output_type": "stream",
     "text": [
      "{('Parker', 'Wilson', 50): ['Hatiko'], ('Josh', 'King', 25): ['Rusty', 'Balto', 'Barry', 'Lassie'], ('John', 'Smith', 28): ['Fido'], ('Jake', 'Smirnoff', 18): ['Butch'], ('Emma', 'Wright', 18): ['Odi'], ('Hannah', 'Taylor', 40): ['Snape'], ('Martha', 'Robinson', 73): ['Horry', 'Chase'], ('Alex', 'Martinez', 65): ['Giro'], ('Simon', 'Nevel', 32): ['Zooma', 'Rocky'], ('Martha', 'Williams', 38): ['Ace']}\n"
     ]
    }
   ],
   "source": [
    "pets = [('Hatiko', 'Parker', 'Wilson', 50),\n",
    "        ('Rusty', 'Josh', 'King', 25),\n",
    "        ('Fido', 'John', 'Smith', 28),\n",
    "        ('Butch', 'Jake', 'Smirnoff', 18),\n",
    "        ('Odi', 'Emma', 'Wright', 18),\n",
    "        ('Balto', 'Josh', 'King', 25),\n",
    "        ('Barry', 'Josh', 'King', 25),\n",
    "        ('Snape', 'Hannah', 'Taylor', 40),\n",
    "        ('Horry', 'Martha', 'Robinson', 73),\n",
    "        ('Giro', 'Alex', 'Martinez', 65),\n",
    "        ('Zooma', 'Simon', 'Nevel', 32),\n",
    "        ('Lassie', 'Josh', 'King', 25),\n",
    "        ('Chase', 'Martha', 'Robinson', 73),\n",
    "        ('Ace', 'Martha', 'Williams', 38),\n",
    "        ('Rocky', 'Simon', 'Nevel', 32)]\n",
    "result = {}\n",
    "for key in pets:\n",
    "    result[key[1:4]] = result.get(key[1:4], []) + list(key[0].split())\n",
    "print(result)"
   ]
  },
  {
   "cell_type": "code",
   "execution_count": 22,
   "id": "3fc0b5b2",
   "metadata": {},
   "outputs": [
    {
     "name": "stdout",
     "output_type": "stream",
     "text": [
      "home sweet home sweet.\n",
      "sweet\n"
     ]
    }
   ],
   "source": [
    "a = input()\n",
    "c = a.lower()\n",
    "b = []\n",
    "for key in c.split():\n",
    "    b.append(key.strip('.,!?:;-'))\n",
    "d={}\n",
    "for c in b:\n",
    "    d[c]=d.get(c,0)-1\n",
    "d=sorted(d.items(),key=lambda para:(-para[1],para[0]))\n",
    "print(d[0][0])"
   ]
  },
  {
   "cell_type": "code",
   "execution_count": 1,
   "id": "73123388",
   "metadata": {},
   "outputs": [
    {
     "name": "stdout",
     "output_type": "stream",
     "text": [
      "a b c a a d c\n",
      "a b c a_1 a_2 d c_1 "
     ]
    }
   ],
   "source": [
    "a = input().split()\n",
    "b = []\n",
    "d={}\n",
    "for c in a:\n",
    "    d[c]=d.get(c,0)+1\n",
    "    if d[c] == 1:\n",
    "        print(c, end=' ')\n",
    "    else:\n",
    "        print(c, '_', d[c] - 1, end=' ', sep='')"
   ]
  },
  {
   "cell_type": "code",
   "execution_count": null,
   "id": "a6ee13f0",
   "metadata": {},
   "outputs": [],
   "source": [
    "n = int(input())"
   ]
  }
 ],
 "metadata": {
  "kernelspec": {
   "display_name": "Python 3",
   "language": "python",
   "name": "python3"
  },
  "language_info": {
   "codemirror_mode": {
    "name": "ipython",
    "version": 3
   },
   "file_extension": ".py",
   "mimetype": "text/x-python",
   "name": "python",
   "nbconvert_exporter": "python",
   "pygments_lexer": "ipython3",
   "version": "3.8.8"
  }
 },
 "nbformat": 4,
 "nbformat_minor": 5
}
